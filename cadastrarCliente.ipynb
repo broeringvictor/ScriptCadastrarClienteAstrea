﻿{
 "cells": [
  {
   "cell_type": "code",
   "id": "initial_id",
   "metadata": {
    "collapsed": true,
    "ExecuteTime": {
     "end_time": "2025-03-19T18:46:25.768860Z",
     "start_time": "2025-03-19T18:46:25.763830Z"
    }
   },
   "source": [
    "import os\n",
    "import Data.ConnectionMySql as MySql\n",
    "from dotenv import load_dotenv\n",
    "from Entities.ClientePF import ClientePF\n",
    "load_dotenv()"
   ],
   "outputs": [
    {
     "data": {
      "text/plain": [
       "True"
      ]
     },
     "execution_count": 19,
     "metadata": {},
     "output_type": "execute_result"
    }
   ],
   "execution_count": 19
  },
  {
   "metadata": {
    "ExecuteTime": {
     "end_time": "2025-03-19T19:13:52.397132Z",
     "start_time": "2025-03-19T19:13:52.383132Z"
    }
   },
   "cell_type": "code",
   "source": [
    "cliente = ClientePF(\n",
    "    contact_name=\"Juliano Antunes\",\n",
    "    contact_nickname=\"Juliano\",\n",
    "    phone=\"48 988580886\",\n",
    "    email=\"Julianosophia2025@gmail.com\",\n",
    "    zip_code=\"88058116\",\n",
    "    street=\"Servidão José Manoel pacífico\",\n",
    "    number=\"87\",\n",
    "    neighborhood=\"Ingleses\",\n",
    "    complement=\"Kitnet\",\n",
    "    city=\"Florianópolis\",\n",
    "    state=\"Santa Catarina\",\n",
    "    country=\"Brasil\",\n",
    "    job=\"Chefe de açougue\",\n",
    "    marital_status=\"Solteiro\",\n",
    "    birth_date=\"1992-06-30\",\n",
    "    homeland=\"Brasileiro\",\n",
    "    cpf=\"03408138060\",\n",
    "    rg=\"5108986588\"\n",
    ")\n",
    "\n",
    "print(cliente)  # ✅ Funcionará sem erros\n",
    "print(cliente.id)  # ✅ Um UUID será gerado automaticamente\n"
   ],
   "id": "57c0850b284390ad",
   "outputs": [
    {
     "ename": "TypeError",
     "evalue": "ClientePF.__init__() missing 8 required positional arguments: 'id', 'website', 'company', 'ctps', 'benefit_document', 'voter_document', 'driver_license', and 'passport'",
     "output_type": "error",
     "traceback": [
      "\u001B[1;31m---------------------------------------------------------------------------\u001B[0m",
      "\u001B[1;31mTypeError\u001B[0m                                 Traceback (most recent call last)",
      "Cell \u001B[1;32mIn[25], line 1\u001B[0m\n\u001B[1;32m----> 1\u001B[0m cliente \u001B[38;5;241m=\u001B[39m \u001B[43mClientePF\u001B[49m\u001B[43m(\u001B[49m\n\u001B[0;32m      2\u001B[0m \u001B[43m    \u001B[49m\u001B[43mcontact_name\u001B[49m\u001B[38;5;241;43m=\u001B[39;49m\u001B[38;5;124;43m\"\u001B[39;49m\u001B[38;5;124;43mJuliano Antunes\u001B[39;49m\u001B[38;5;124;43m\"\u001B[39;49m\u001B[43m,\u001B[49m\n\u001B[0;32m      3\u001B[0m \u001B[43m    \u001B[49m\u001B[43mcontact_nickname\u001B[49m\u001B[38;5;241;43m=\u001B[39;49m\u001B[38;5;124;43m\"\u001B[39;49m\u001B[38;5;124;43mJuliano\u001B[39;49m\u001B[38;5;124;43m\"\u001B[39;49m\u001B[43m,\u001B[49m\n\u001B[0;32m      4\u001B[0m \u001B[43m    \u001B[49m\u001B[43mphone\u001B[49m\u001B[38;5;241;43m=\u001B[39;49m\u001B[38;5;124;43m\"\u001B[39;49m\u001B[38;5;124;43m48 988580886\u001B[39;49m\u001B[38;5;124;43m\"\u001B[39;49m\u001B[43m,\u001B[49m\n\u001B[0;32m      5\u001B[0m \u001B[43m    \u001B[49m\u001B[43memail\u001B[49m\u001B[38;5;241;43m=\u001B[39;49m\u001B[38;5;124;43m\"\u001B[39;49m\u001B[38;5;124;43mJulianosophia2025@gmail.com\u001B[39;49m\u001B[38;5;124;43m\"\u001B[39;49m\u001B[43m,\u001B[49m\n\u001B[0;32m      6\u001B[0m \u001B[43m    \u001B[49m\u001B[43mzip_code\u001B[49m\u001B[38;5;241;43m=\u001B[39;49m\u001B[38;5;124;43m\"\u001B[39;49m\u001B[38;5;124;43m88058116\u001B[39;49m\u001B[38;5;124;43m\"\u001B[39;49m\u001B[43m,\u001B[49m\n\u001B[0;32m      7\u001B[0m \u001B[43m    \u001B[49m\u001B[43mstreet\u001B[49m\u001B[38;5;241;43m=\u001B[39;49m\u001B[38;5;124;43m\"\u001B[39;49m\u001B[38;5;124;43mServidão José Manoel pacífico\u001B[39;49m\u001B[38;5;124;43m\"\u001B[39;49m\u001B[43m,\u001B[49m\n\u001B[0;32m      8\u001B[0m \u001B[43m    \u001B[49m\u001B[43mnumber\u001B[49m\u001B[38;5;241;43m=\u001B[39;49m\u001B[38;5;124;43m\"\u001B[39;49m\u001B[38;5;124;43m87\u001B[39;49m\u001B[38;5;124;43m\"\u001B[39;49m\u001B[43m,\u001B[49m\n\u001B[0;32m      9\u001B[0m \u001B[43m    \u001B[49m\u001B[43mneighborhood\u001B[49m\u001B[38;5;241;43m=\u001B[39;49m\u001B[38;5;124;43m\"\u001B[39;49m\u001B[38;5;124;43mIngleses\u001B[39;49m\u001B[38;5;124;43m\"\u001B[39;49m\u001B[43m,\u001B[49m\n\u001B[0;32m     10\u001B[0m \u001B[43m    \u001B[49m\u001B[43mcomplement\u001B[49m\u001B[38;5;241;43m=\u001B[39;49m\u001B[38;5;124;43m\"\u001B[39;49m\u001B[38;5;124;43mKitnet\u001B[39;49m\u001B[38;5;124;43m\"\u001B[39;49m\u001B[43m,\u001B[49m\n\u001B[0;32m     11\u001B[0m \u001B[43m    \u001B[49m\u001B[43mcity\u001B[49m\u001B[38;5;241;43m=\u001B[39;49m\u001B[38;5;124;43m\"\u001B[39;49m\u001B[38;5;124;43mFlorianópolis\u001B[39;49m\u001B[38;5;124;43m\"\u001B[39;49m\u001B[43m,\u001B[49m\n\u001B[0;32m     12\u001B[0m \u001B[43m    \u001B[49m\u001B[43mstate\u001B[49m\u001B[38;5;241;43m=\u001B[39;49m\u001B[38;5;124;43m\"\u001B[39;49m\u001B[38;5;124;43mSanta Catarina\u001B[39;49m\u001B[38;5;124;43m\"\u001B[39;49m\u001B[43m,\u001B[49m\n\u001B[0;32m     13\u001B[0m \u001B[43m    \u001B[49m\u001B[43mcountry\u001B[49m\u001B[38;5;241;43m=\u001B[39;49m\u001B[38;5;124;43m\"\u001B[39;49m\u001B[38;5;124;43mBrasil\u001B[39;49m\u001B[38;5;124;43m\"\u001B[39;49m\u001B[43m,\u001B[49m\n\u001B[0;32m     14\u001B[0m \u001B[43m    \u001B[49m\u001B[43mjob\u001B[49m\u001B[38;5;241;43m=\u001B[39;49m\u001B[38;5;124;43m\"\u001B[39;49m\u001B[38;5;124;43mChefe de açougue\u001B[39;49m\u001B[38;5;124;43m\"\u001B[39;49m\u001B[43m,\u001B[49m\n\u001B[0;32m     15\u001B[0m \u001B[43m    \u001B[49m\u001B[43mmarital_status\u001B[49m\u001B[38;5;241;43m=\u001B[39;49m\u001B[38;5;124;43m\"\u001B[39;49m\u001B[38;5;124;43mSolteiro\u001B[39;49m\u001B[38;5;124;43m\"\u001B[39;49m\u001B[43m,\u001B[49m\n\u001B[0;32m     16\u001B[0m \u001B[43m    \u001B[49m\u001B[43mbirth_date\u001B[49m\u001B[38;5;241;43m=\u001B[39;49m\u001B[38;5;124;43m\"\u001B[39;49m\u001B[38;5;124;43m1992-06-30\u001B[39;49m\u001B[38;5;124;43m\"\u001B[39;49m\u001B[43m,\u001B[49m\n\u001B[0;32m     17\u001B[0m \u001B[43m    \u001B[49m\u001B[43mhomeland\u001B[49m\u001B[38;5;241;43m=\u001B[39;49m\u001B[38;5;124;43m\"\u001B[39;49m\u001B[38;5;124;43mBrasileiro\u001B[39;49m\u001B[38;5;124;43m\"\u001B[39;49m\u001B[43m,\u001B[49m\n\u001B[0;32m     18\u001B[0m \u001B[43m    \u001B[49m\u001B[43mcpf\u001B[49m\u001B[38;5;241;43m=\u001B[39;49m\u001B[38;5;124;43m\"\u001B[39;49m\u001B[38;5;124;43m03408138060\u001B[39;49m\u001B[38;5;124;43m\"\u001B[39;49m\u001B[43m,\u001B[49m\n\u001B[0;32m     19\u001B[0m \u001B[43m    \u001B[49m\u001B[43mrg\u001B[49m\u001B[38;5;241;43m=\u001B[39;49m\u001B[38;5;124;43m\"\u001B[39;49m\u001B[38;5;124;43m5108986588\u001B[39;49m\u001B[38;5;124;43m\"\u001B[39;49m\n\u001B[0;32m     20\u001B[0m \u001B[43m)\u001B[49m\n\u001B[0;32m     22\u001B[0m \u001B[38;5;28mprint\u001B[39m(cliente)  \u001B[38;5;66;03m# ✅ Funcionará sem erros\u001B[39;00m\n\u001B[0;32m     23\u001B[0m \u001B[38;5;28mprint\u001B[39m(cliente\u001B[38;5;241m.\u001B[39mid)  \u001B[38;5;66;03m# ✅ Um UUID será gerado automaticamente\u001B[39;00m\n",
      "\u001B[1;31mTypeError\u001B[0m: ClientePF.__init__() missing 8 required positional arguments: 'id', 'website', 'company', 'ctps', 'benefit_document', 'voter_document', 'driver_license', and 'passport'"
     ]
    }
   ],
   "execution_count": 25
  },
  {
   "metadata": {
    "ExecuteTime": {
     "end_time": "2025-03-19T19:32:17.068721Z",
     "start_time": "2025-03-19T19:32:17.062812Z"
    }
   },
   "cell_type": "code",
   "source": [
    "def cadastrar_cliente(cliente):\n",
    "    try:\n",
    "        # Conectar ao banco de dados usando a função importada\n",
    "        conn = MySql.get_mysql_connection()\n",
    "        cursor = conn.cursor()\n",
    "\n",
    "        # Comando SQL para inserir um novo cliente\n",
    "        sql = \"\"\"\n",
    "    INSERT INTO ClientesPF (id, ContactName, contact_nickname, phone, email, zip_code,\n",
    "                            street, number, neighborhood, complement, city, state, country,\n",
    "                            job, company, marital_status, birth_date, homeland, cpf, rg)\n",
    "\n",
    "\n",
    "        values = (\n",
    "            cliente.id, cliente.contact_name, cliente.contact_nickname, cliente.phone, cliente.email,\n",
    "            cliente.zip_code, cliente.street, cliente.number, cliente.neighborhood, cliente.complement,\n",
    "            cliente.city, cliente.state, cliente.country, cliente.job, cliente.company, cliente.marital_status,\n",
    "            cliente.birth_date, cliente.homeland, cliente.cpf, cliente.rg\n",
    "        )\n",
    "\n",
    "        cursor.execute(sql, values)\n",
    "        conn.commit()\n",
    "        print(\"Cliente cadastrado com sucesso!\")\n",
    "\n",
    "    except Exception as err:\n",
    "        print(f\"Erro ao cadastrar cliente: {err}\")\n",
    "\n",
    "    finally:\n",
    "        if conn and conn.open:\n",
    "            cursor.close()\n",
    "            conn.close()\n",
    "\n",
    "# Executar a função de cadastro\n",
    "if __name__ == \"__main__\":\n",
    "    cadastrar_cliente(cliente)"
   ],
   "id": "3f1657633bab602b",
   "outputs": [
    {
     "ename": "SyntaxError",
     "evalue": "incomplete input (73087987.py, line 8)",
     "output_type": "error",
     "traceback": [
      "\u001B[1;36m  Cell \u001B[1;32mIn[35], line 8\u001B[1;36m\u001B[0m\n\u001B[1;33m    sql = \"\"\"\u001B[0m\n\u001B[1;37m          ^\u001B[0m\n\u001B[1;31mSyntaxError\u001B[0m\u001B[1;31m:\u001B[0m incomplete input\n"
     ]
    }
   ],
   "execution_count": 35
  },
  {
   "metadata": {
    "ExecuteTime": {
     "end_time": "2025-03-19T19:24:26.249773Z",
     "start_time": "2025-03-19T19:24:26.141172Z"
    }
   },
   "cell_type": "code",
   "source": [
    "# Importando a função de conexão do banco de dados\n",
    "from Data.ConnectionMySql import get_mysql_connection\n",
    "\n",
    "def describe_table(table_name):\n",
    "    try:\n",
    "        # Conectar ao banco de dados usando a função importada\n",
    "        conn = get_mysql_connection()\n",
    "        cursor = conn.cursor()\n",
    "\n",
    "        # Executar o comando DESCRIBE para obter detalhes da tabela\n",
    "        cursor.execute(f\"DESCRIBE {table_name};\")\n",
    "        columns = cursor.fetchall()\n",
    "\n",
    "        return columns  # Retorna os detalhes da tabela corretamente\n",
    "\n",
    "    except Exception as e:\n",
    "        print(f\"Erro ao conectar ou consultar o banco de dados: {e}\")\n",
    "        return None  # Retorna None em caso de erro\n",
    "\n",
    "    finally:\n",
    "        # Fechar a conexão e o cursor corretamente\n",
    "        if 'conn' in locals() and conn.open:\n",
    "            cursor.close()\n",
    "            conn.close()\n",
    "\n",
    "# ✅ Agora a função será chamada corretamente\n",
    "columns = describe_table(\"ClientesPF\")\n",
    "\n",
    "# Exibir a estrutura da tabela se a consulta foi bem-sucedida\n",
    "if columns:\n",
    "    print(\"\\n📌 Estrutura da tabela `ClientesPF`:\\n\")\n",
    "    print(\"{:<20} {:<15} {:<10} {:<10} {:<10} {:<10}\".format(\n",
    "        \"Coluna\", \"Tipo\", \"Null\", \"Key\", \"Default\", \"Extra\"\n",
    "    ))\n",
    "    print(\"-\" * 70)\n",
    "\n",
    "    for column in columns:\n",
    "        print(\"{:<20} {:<15} {:<10} {:<10} {:<10} {:<10}\".format(\n",
    "            column[0], column[1], column[2], column[3], column[4], column[5]\n",
    "        ))\n",
    "else:\n",
    "    print(\"⚠️ Erro ao recuperar os detalhes da tabela.\")\n"
   ],
   "id": "4ded17dc0289f618",
   "outputs": [
    {
     "name": "stdout",
     "output_type": "stream",
     "text": [
      "Conexão bem-sucedida!\n",
      "\n",
      "📌 Estrutura da tabela `ClientesPF`:\n",
      "\n",
      "Coluna               Tipo            Null       Key        Default    Extra     \n",
      "----------------------------------------------------------------------\n"
     ]
    },
    {
     "ename": "TypeError",
     "evalue": "unsupported format string passed to NoneType.__format__",
     "output_type": "error",
     "traceback": [
      "\u001B[1;31m---------------------------------------------------------------------------\u001B[0m",
      "\u001B[1;31mTypeError\u001B[0m                                 Traceback (most recent call last)",
      "Cell \u001B[1;32mIn[34], line 38\u001B[0m\n\u001B[0;32m     35\u001B[0m     \u001B[38;5;28mprint\u001B[39m(\u001B[38;5;124m\"\u001B[39m\u001B[38;5;124m-\u001B[39m\u001B[38;5;124m\"\u001B[39m \u001B[38;5;241m*\u001B[39m \u001B[38;5;241m70\u001B[39m)\n\u001B[0;32m     37\u001B[0m     \u001B[38;5;28;01mfor\u001B[39;00m column \u001B[38;5;129;01min\u001B[39;00m columns:\n\u001B[1;32m---> 38\u001B[0m         \u001B[38;5;28mprint\u001B[39m(\u001B[38;5;124;43m\"\u001B[39;49m\u001B[38;5;132;43;01m{:<20}\u001B[39;49;00m\u001B[38;5;124;43m \u001B[39;49m\u001B[38;5;132;43;01m{:<15}\u001B[39;49;00m\u001B[38;5;124;43m \u001B[39;49m\u001B[38;5;132;43;01m{:<10}\u001B[39;49;00m\u001B[38;5;124;43m \u001B[39;49m\u001B[38;5;132;43;01m{:<10}\u001B[39;49;00m\u001B[38;5;124;43m \u001B[39;49m\u001B[38;5;132;43;01m{:<10}\u001B[39;49;00m\u001B[38;5;124;43m \u001B[39;49m\u001B[38;5;132;43;01m{:<10}\u001B[39;49;00m\u001B[38;5;124;43m\"\u001B[39;49m\u001B[38;5;241;43m.\u001B[39;49m\u001B[43mformat\u001B[49m\u001B[43m(\u001B[49m\n\u001B[0;32m     39\u001B[0m \u001B[43m            \u001B[49m\u001B[43mcolumn\u001B[49m\u001B[43m[\u001B[49m\u001B[38;5;241;43m0\u001B[39;49m\u001B[43m]\u001B[49m\u001B[43m,\u001B[49m\u001B[43m \u001B[49m\u001B[43mcolumn\u001B[49m\u001B[43m[\u001B[49m\u001B[38;5;241;43m1\u001B[39;49m\u001B[43m]\u001B[49m\u001B[43m,\u001B[49m\u001B[43m \u001B[49m\u001B[43mcolumn\u001B[49m\u001B[43m[\u001B[49m\u001B[38;5;241;43m2\u001B[39;49m\u001B[43m]\u001B[49m\u001B[43m,\u001B[49m\u001B[43m \u001B[49m\u001B[43mcolumn\u001B[49m\u001B[43m[\u001B[49m\u001B[38;5;241;43m3\u001B[39;49m\u001B[43m]\u001B[49m\u001B[43m,\u001B[49m\u001B[43m \u001B[49m\u001B[43mcolumn\u001B[49m\u001B[43m[\u001B[49m\u001B[38;5;241;43m4\u001B[39;49m\u001B[43m]\u001B[49m\u001B[43m,\u001B[49m\u001B[43m \u001B[49m\u001B[43mcolumn\u001B[49m\u001B[43m[\u001B[49m\u001B[38;5;241;43m5\u001B[39;49m\u001B[43m]\u001B[49m\n\u001B[0;32m     40\u001B[0m \u001B[43m        \u001B[49m\u001B[43m)\u001B[49m)\n\u001B[0;32m     41\u001B[0m \u001B[38;5;28;01melse\u001B[39;00m:\n\u001B[0;32m     42\u001B[0m     \u001B[38;5;28mprint\u001B[39m(\u001B[38;5;124m\"\u001B[39m\u001B[38;5;124m⚠️ Erro ao recuperar os detalhes da tabela.\u001B[39m\u001B[38;5;124m\"\u001B[39m)\n",
      "\u001B[1;31mTypeError\u001B[0m: unsupported format string passed to NoneType.__format__"
     ]
    }
   ],
   "execution_count": 34
  }
 ],
 "metadata": {
  "kernelspec": {
   "display_name": "Python 3",
   "language": "python",
   "name": "python3"
  },
  "language_info": {
   "codemirror_mode": {
    "name": "ipython",
    "version": 2
   },
   "file_extension": ".py",
   "mimetype": "text/x-python",
   "name": "python",
   "nbconvert_exporter": "python",
   "pygments_lexer": "ipython2",
   "version": "2.7.6"
  }
 },
 "nbformat": 4,
 "nbformat_minor": 5
}
